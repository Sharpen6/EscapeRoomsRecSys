{
 "cells": [
  {
   "cell_type": "code",
   "execution_count": 1,
   "metadata": {
    "collapsed": true
   },
   "outputs": [],
   "source": [
    "import sys, string, os\n",
    "import pandas as pd\n",
    "import itertools\n",
    "from tqdm import tqdm\n",
    "from sklearn import svm\n",
    "import numpy as np\n",
    "import operator\n",
    "from surprise import Reader\n",
    "from surprise import Dataset\n",
    "from sklearn.svm import LinearSVC\n",
    "from surprise.model_selection import PredefinedKFold\n",
    "from surprise.prediction_algorithms import *\n",
    "from surprise import SVD\n",
    "from surprise import Dataset\n",
    "from surprise.model_selection import cross_validate\n",
    "from sklearn.metrics import accuracy_score"
   ]
  },
  {
   "cell_type": "code",
   "execution_count": 63,
   "metadata": {},
   "outputs": [],
   "source": [
    "def run_new_method(method):\n",
    "    df = pd.read_csv('C:\\\\Users\\\\Sagi\\\\Downloads\\\\yeast.csv',header=None)\n",
    "    df.columns=['A','B','C','D','E','F','G','H','I','TARGET']\n",
    "    target_dummies = pd.get_dummies(df['TARGET'])\n",
    "    target_dummies = target_dummies.add_prefix('TARGET_')\n",
    "    df = pd.concat([df,target_dummies],axis=1)\n",
    "    df.drop(['A','TARGET'], axis=1, inplace=True)\n",
    "\n",
    "    train = df[:900]\n",
    "    test = df[900:]\n",
    "\n",
    "    train_parts = []\n",
    "    for col in train.columns:\n",
    "        tmp = train[col].reset_index()\n",
    "        tmp.columns=['user','raw_ratings']\n",
    "        tmp['item'] = col\n",
    "        tmp = tmp[['user','item','raw_ratings']]\n",
    "        train_parts.append(tmp)\n",
    "\n",
    "\n",
    "    test_parts = []\n",
    "    for col in test.columns:\n",
    "\n",
    "        tmp = test[col].reset_index()\n",
    "        tmp.columns=['user','raw_ratings']\n",
    "        tmp['item'] = col\n",
    "        tmp = tmp[['user','item','raw_ratings']]\n",
    "        if 'TARGET' in col:\n",
    "            test_parts.append(tmp)\n",
    "        else:\n",
    "            train_parts.append(tmp)\n",
    "\n",
    "    ratings_df_train = pd.concat(train_parts)\n",
    "    ratings_df_test = pd.concat(test_parts)\n",
    "\n",
    "    test_path_tmp = \"C:\\\\experiments_dataset\\\\test_file.csv\"\n",
    "    train_path_tmp = \"C:\\\\experiments_dataset\\\\train_file.csv\"\n",
    "\n",
    "    ratings_df_train.to_csv(train_path_tmp, index=False, header=False)\n",
    "    ratings_df_test.to_csv(test_path_tmp, index=False, header=False)\n",
    "\n",
    "    fold_files = [(train_path_tmp, test_path_tmp)]\n",
    "    reader = Reader(rating_scale=(1, 10), line_format='user item rating', sep=',')\n",
    "    data = Dataset.load_from_folds(fold_files, reader=reader)\n",
    "    \n",
    "    algo = method\n",
    "    \n",
    "    for trainset, testset in PredefinedKFold().split(data):\n",
    "        algo.fit(trainset)\n",
    "\n",
    "    results = pd.DataFrame()\n",
    "    for key, val in tqdm(ratings_df_test.iterrows(), total=len(ratings_df_test.index)):\n",
    "            usr = val[0]\n",
    "            itm = val[1]\n",
    "            real = val[2]\n",
    "\n",
    "            prediction = algo.predict(str(usr), str(itm), clip=False)\n",
    "            results = results.append({\"userID\": int(usr),\n",
    "                                      \"itemID\": str(itm),\n",
    "                                      \"real\": int(real),\n",
    "                                      \"est\": prediction.est}, ignore_index=True)\n",
    "\n",
    "    prediction_result = pd.pivot_table(results, values = 'est', index='userID', columns = 'itemID').reset_index()    \n",
    "    prediction_result.set_index('userID',inplace=True)\n",
    "    classifications = prediction_result.idxmax(axis=1)\n",
    "    df = pd.read_csv('C:\\\\Users\\\\Sagi\\\\Downloads\\\\yeast.csv',header=None)\n",
    "    df.columns=['A','B','C','D','E','F','G','H','I','TARGET']\n",
    "    df['PREDICTED'] = classifications\n",
    "    df['PREDICTED'] = df['PREDICTED'].fillna('')\n",
    "    df['PREDICTED'] = df['PREDICTED'].apply(lambda x: x.replace('TARGET_',''))\n",
    "    print(accuracy_score(df[900:]['TARGET'], df[900:]['PREDICTED']))"
   ]
  },
  {
   "cell_type": "code",
   "execution_count": 59,
   "metadata": {},
   "outputs": [
    {
     "name": "stderr",
     "output_type": "stream",
     "text": [
      "C:\\Users\\Sagi\\Anaconda3\\lib\\site-packages\\sklearn\\preprocessing\\label.py:112: DataConversionWarning: A column-vector y was passed when a 1d array was expected. Please change the shape of y to (n_samples, ), for example using ravel().\n",
      "  y = column_or_1d(y, warn=True)\n",
      "C:\\Users\\Sagi\\Anaconda3\\lib\\site-packages\\sklearn\\preprocessing\\label.py:147: DataConversionWarning: A column-vector y was passed when a 1d array was expected. Please change the shape of y to (n_samples, ), for example using ravel().\n",
      "  y = column_or_1d(y, warn=True)\n"
     ]
    },
    {
     "name": "stdout",
     "output_type": "stream",
     "text": [
      "0.52397260274\n"
     ]
    }
   ],
   "source": [
    "import xgboost as xgb\n",
    "df = pd.read_csv('C:\\\\Users\\\\Sagi\\\\Downloads\\\\yeast.csv',header=None)\n",
    "df.columns=['A','B','C','D','E','F','G','H','I','TARGET']\n",
    "X_train = df[:900][['B','C','D','E','F','G','H','I']]\n",
    "y_train = df[:900][['TARGET']]\n",
    "X_test = df[900:][['B','C','D','E','F','G','H','I']]\n",
    "y_test = df[900:][['TARGET']]\n",
    "xgb_model = xgb.XGBClassifier().fit(X_train, y_train)\n",
    "X_test['PREDICTED'] = xgb_model.predict(X_test)\n",
    "df['PREDICTED'] = X_test['PREDICTED']\n",
    "print(accuracy_score(df[900:]['TARGET'], df[900:]['PREDICTED']))"
   ]
  },
  {
   "cell_type": "code",
   "execution_count": 67,
   "metadata": {},
   "outputs": [
    {
     "name": "stdout",
     "output_type": "stream",
     "text": [
      "Computing the cosine similarity matrix...\n",
      "Done computing similarity matrix.\n"
     ]
    },
    {
     "name": "stderr",
     "output_type": "stream",
     "text": [
      "100%|█████████████████████████████████████| 5840/5840 [00:42<00:00, 135.83it/s]\n"
     ]
    },
    {
     "name": "stdout",
     "output_type": "stream",
     "text": [
      "0.513698630137\n"
     ]
    }
   ],
   "source": [
    "algo = KNNBasic(sim_options={'name': 'cosine', 'user_based': True})\n",
    "run_new_method(algo)"
   ]
  },
  {
   "cell_type": "code",
   "execution_count": 68,
   "metadata": {},
   "outputs": [
    {
     "name": "stdout",
     "output_type": "stream",
     "text": [
      "Computing the cosine similarity matrix...\n",
      "Done computing similarity matrix.\n"
     ]
    },
    {
     "name": "stderr",
     "output_type": "stream",
     "text": [
      "100%|█████████████████████████████████████| 5840/5840 [00:42<00:00, 138.79it/s]\n"
     ]
    },
    {
     "name": "stdout",
     "output_type": "stream",
     "text": [
      "0.513698630137\n"
     ]
    }
   ],
   "source": [
    "algo = KNNBasic(sim_options={'name': 'cosine', 'user_based': True, 'k':1})\n",
    "run_new_method(algo)"
   ]
  },
  {
   "cell_type": "code",
   "execution_count": 69,
   "metadata": {},
   "outputs": [
    {
     "name": "stdout",
     "output_type": "stream",
     "text": [
      "Computing the cosine similarity matrix...\n",
      "Done computing similarity matrix.\n"
     ]
    },
    {
     "name": "stderr",
     "output_type": "stream",
     "text": [
      "100%|█████████████████████████████████████| 5840/5840 [00:39<00:00, 149.50it/s]\n"
     ]
    },
    {
     "name": "stdout",
     "output_type": "stream",
     "text": [
      "0.513698630137\n"
     ]
    }
   ],
   "source": [
    "algo = KNNBasic(sim_options={'name': 'cosine', 'user_based': True, 'k':4})\n",
    "run_new_method(algo)"
   ]
  },
  {
   "cell_type": "code",
   "execution_count": 70,
   "metadata": {},
   "outputs": [
    {
     "name": "stdout",
     "output_type": "stream",
     "text": [
      "Computing the cosine similarity matrix...\n",
      "Done computing similarity matrix.\n"
     ]
    },
    {
     "name": "stderr",
     "output_type": "stream",
     "text": [
      "100%|█████████████████████████████████████| 5840/5840 [00:38<00:00, 153.02it/s]\n"
     ]
    },
    {
     "name": "stdout",
     "output_type": "stream",
     "text": [
      "0.513698630137\n"
     ]
    }
   ],
   "source": [
    "algo = KNNBasic(sim_options={'name': 'cosine', 'user_based': True, 'k':8})\n",
    "run_new_method(algo)"
   ]
  },
  {
   "cell_type": "code",
   "execution_count": 72,
   "metadata": {},
   "outputs": [
    {
     "name": "stdout",
     "output_type": "stream",
     "text": [
      "Computing the pearson similarity matrix...\n",
      "Done computing similarity matrix.\n"
     ]
    },
    {
     "name": "stderr",
     "output_type": "stream",
     "text": [
      "100%|█████████████████████████████████████| 5840/5840 [00:40<00:00, 145.64it/s]\n"
     ]
    },
    {
     "name": "stdout",
     "output_type": "stream",
     "text": [
      "0.508561643836\n"
     ]
    }
   ],
   "source": [
    "algo = KNNBasic(sim_options={'name': 'pearson', 'user_based': True})\n",
    "run_new_method(algo)"
   ]
  },
  {
   "cell_type": "code",
   "execution_count": 64,
   "metadata": {},
   "outputs": [
    {
     "name": "stderr",
     "output_type": "stream",
     "text": [
      "100%|█████████████████████████████████████| 5840/5840 [00:30<00:00, 192.19it/s]\n"
     ]
    },
    {
     "name": "stdout",
     "output_type": "stream",
     "text": [
      "0.299657534247\n"
     ]
    }
   ],
   "source": [
    "\n",
    "#algo = KNNBasic(sim_options={'name': 'cosine', 'user_based': True})\n",
    "algo = SVD()\n",
    "run_new_method(algo)"
   ]
  },
  {
   "cell_type": "code",
   "execution_count": 65,
   "metadata": {},
   "outputs": [
    {
     "name": "stderr",
     "output_type": "stream",
     "text": [
      "100%|█████████████████████████████████████| 5840/5840 [00:34<00:00, 171.68it/s]\n"
     ]
    },
    {
     "name": "stdout",
     "output_type": "stream",
     "text": [
      "0.296232876712\n"
     ]
    }
   ],
   "source": [
    "algo = SVDpp()\n",
    "run_new_method(algo)"
   ]
  },
  {
   "cell_type": "code",
   "execution_count": 66,
   "metadata": {},
   "outputs": [
    {
     "name": "stderr",
     "output_type": "stream",
     "text": [
      "100%|█████████████████████████████████████| 5840/5840 [00:30<00:00, 193.62it/s]\n"
     ]
    },
    {
     "name": "stdout",
     "output_type": "stream",
     "text": [
      "0.306506849315\n"
     ]
    }
   ],
   "source": [
    "algo = SVD(n_factors=1000,n_epochs=100)\n",
    "run_new_method(algo)"
   ]
  },
  {
   "cell_type": "code",
   "execution_count": 74,
   "metadata": {},
   "outputs": [
    {
     "name": "stderr",
     "output_type": "stream",
     "text": [
      "100%|█████████████████████████████████████| 5840/5840 [00:32<00:00, 181.49it/s]\n"
     ]
    },
    {
     "name": "stdout",
     "output_type": "stream",
     "text": [
      "0.347602739726\n"
     ]
    }
   ],
   "source": [
    "algo = SVD(n_factors=100,n_epochs=1500)\n",
    "run_new_method(algo)"
   ]
  },
  {
   "cell_type": "code",
   "execution_count": 78,
   "metadata": {},
   "outputs": [
    {
     "name": "stderr",
     "output_type": "stream",
     "text": [
      "100%|█████████████████████████████████████| 5840/5840 [00:40<00:00, 144.53it/s]\n"
     ]
    },
    {
     "name": "stdout",
     "output_type": "stream",
     "text": [
      "0.361301369863\n"
     ]
    }
   ],
   "source": [
    "algo = SVD(n_factors=100,n_epochs=3000)\n",
    "run_new_method(algo)"
   ]
  },
  {
   "cell_type": "code",
   "execution_count": 76,
   "metadata": {},
   "outputs": [
    {
     "name": "stdout",
     "output_type": "stream",
     "text": [
      "Computing the cosine similarity matrix...\n",
      "Done computing similarity matrix.\n"
     ]
    },
    {
     "name": "stderr",
     "output_type": "stream",
     "text": [
      "100%|█████████████████████████████████████| 5840/5840 [00:41<00:00, 140.31it/s]\n"
     ]
    },
    {
     "name": "stdout",
     "output_type": "stream",
     "text": [
      "0.513698630137\n"
     ]
    }
   ],
   "source": [
    "algo = KNNBasic(sim_options={'name': 'cosine', 'item_based': True})\n",
    "run_new_method(algo)"
   ]
  },
  {
   "cell_type": "code",
   "execution_count": 77,
   "metadata": {},
   "outputs": [
    {
     "name": "stdout",
     "output_type": "stream",
     "text": [
      "Computing the cosine similarity matrix...\n",
      "Done computing similarity matrix.\n"
     ]
    },
    {
     "name": "stderr",
     "output_type": "stream",
     "text": [
      "100%|█████████████████████████████████████| 5840/5840 [00:30<00:00, 193.24it/s]\n"
     ]
    },
    {
     "name": "stdout",
     "output_type": "stream",
     "text": [
      "0.513698630137\n"
     ]
    }
   ],
   "source": [
    "algo = KNNBasic(sim_options={'name': 'cosine', 'user_based': True, 'min_k':5})\n",
    "run_new_method(algo)"
   ]
  },
  {
   "cell_type": "code",
   "execution_count": null,
   "metadata": {
    "collapsed": true
   },
   "outputs": [],
   "source": []
  }
 ],
 "metadata": {
  "kernelspec": {
   "display_name": "Python 3",
   "language": "python",
   "name": "python3"
  },
  "language_info": {
   "codemirror_mode": {
    "name": "ipython",
    "version": 3
   },
   "file_extension": ".py",
   "mimetype": "text/x-python",
   "name": "python",
   "nbconvert_exporter": "python",
   "pygments_lexer": "ipython3",
   "version": "3.6.1"
  }
 },
 "nbformat": 4,
 "nbformat_minor": 2
}
